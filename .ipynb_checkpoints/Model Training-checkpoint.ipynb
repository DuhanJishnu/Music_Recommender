{
 "cells": [
  {
   "cell_type": "code",
   "execution_count": 46,
   "id": "aff592bc-42e3-4dfb-b606-96367d21f152",
   "metadata": {},
   "outputs": [],
   "source": [
    "import pandas as pd"
   ]
  },
  {
   "cell_type": "code",
   "execution_count": 47,
   "id": "d705d232-0437-4d5c-b4e9-6911423518eb",
   "metadata": {},
   "outputs": [],
   "source": [
    "df = pd.read_csv(\"data/spotify_millsongdata.csv\")"
   ]
  },
  {
   "cell_type": "code",
   "execution_count": 48,
   "id": "21a58a64-cc62-449d-918b-8eb02420ad1c",
   "metadata": {},
   "outputs": [
    {
     "data": {
      "text/html": [
       "<div>\n",
       "<style scoped>\n",
       "    .dataframe tbody tr th:only-of-type {\n",
       "        vertical-align: middle;\n",
       "    }\n",
       "\n",
       "    .dataframe tbody tr th {\n",
       "        vertical-align: top;\n",
       "    }\n",
       "\n",
       "    .dataframe thead th {\n",
       "        text-align: right;\n",
       "    }\n",
       "</style>\n",
       "<table border=\"1\" class=\"dataframe\">\n",
       "  <thead>\n",
       "    <tr style=\"text-align: right;\">\n",
       "      <th></th>\n",
       "      <th>artist</th>\n",
       "      <th>song</th>\n",
       "      <th>link</th>\n",
       "      <th>text</th>\n",
       "    </tr>\n",
       "  </thead>\n",
       "  <tbody>\n",
       "    <tr>\n",
       "      <th>0</th>\n",
       "      <td>Ace Of Base</td>\n",
       "      <td>Always Have, Always Will</td>\n",
       "      <td>/a/ace+of+base/always+have+always+will_2000356...</td>\n",
       "      <td>Always have, always will  \\r\\nI was mesmerized...</td>\n",
       "    </tr>\n",
       "    <tr>\n",
       "      <th>1</th>\n",
       "      <td>Ace Of Base</td>\n",
       "      <td>Cecilia</td>\n",
       "      <td>/a/ace+of+base/cecilia_20003562.html</td>\n",
       "      <td>This is a song about a well-known girl  \\r\\nWh...</td>\n",
       "    </tr>\n",
       "    <tr>\n",
       "      <th>2</th>\n",
       "      <td>Ace Of Base</td>\n",
       "      <td>Don't Stop</td>\n",
       "      <td>/a/ace+of+base/dont+stop_20186001.html</td>\n",
       "      <td>Don't stop now  \\r\\nDon't stop now  \\r\\nDon't ...</td>\n",
       "    </tr>\n",
       "    <tr>\n",
       "      <th>3</th>\n",
       "      <td>Ace Of Base</td>\n",
       "      <td>Edge Of Heaven</td>\n",
       "      <td>/a/ace+of+base/edge+of+heaven_20003625.html</td>\n",
       "      <td>Fire! I can see it burning so brightly  \\r\\nFi...</td>\n",
       "    </tr>\n",
       "    <tr>\n",
       "      <th>4</th>\n",
       "      <td>Ace Of Base</td>\n",
       "      <td>Fashion Party</td>\n",
       "      <td>/a/ace+of+base/fashion+party_20003603.html</td>\n",
       "      <td>Tonight we're gonna have a good time  \\r\\nOh w...</td>\n",
       "    </tr>\n",
       "  </tbody>\n",
       "</table>\n",
       "</div>"
      ],
      "text/plain": [
       "        artist                      song  \\\n",
       "0  Ace Of Base  Always Have, Always Will   \n",
       "1  Ace Of Base                   Cecilia   \n",
       "2  Ace Of Base                Don't Stop   \n",
       "3  Ace Of Base            Edge Of Heaven   \n",
       "4  Ace Of Base             Fashion Party   \n",
       "\n",
       "                                                link  \\\n",
       "0  /a/ace+of+base/always+have+always+will_2000356...   \n",
       "1               /a/ace+of+base/cecilia_20003562.html   \n",
       "2             /a/ace+of+base/dont+stop_20186001.html   \n",
       "3        /a/ace+of+base/edge+of+heaven_20003625.html   \n",
       "4         /a/ace+of+base/fashion+party_20003603.html   \n",
       "\n",
       "                                                text  \n",
       "0  Always have, always will  \\r\\nI was mesmerized...  \n",
       "1  This is a song about a well-known girl  \\r\\nWh...  \n",
       "2  Don't stop now  \\r\\nDon't stop now  \\r\\nDon't ...  \n",
       "3  Fire! I can see it burning so brightly  \\r\\nFi...  \n",
       "4  Tonight we're gonna have a good time  \\r\\nOh w...  "
      ]
     },
     "execution_count": 48,
     "metadata": {},
     "output_type": "execute_result"
    }
   ],
   "source": [
    "df.head() "
   ]
  },
  {
   "cell_type": "code",
   "execution_count": 49,
   "id": "93fbfc50-e220-421e-8982-898ad8100264",
   "metadata": {},
   "outputs": [
    {
     "data": {
      "text/html": [
       "<div>\n",
       "<style scoped>\n",
       "    .dataframe tbody tr th:only-of-type {\n",
       "        vertical-align: middle;\n",
       "    }\n",
       "\n",
       "    .dataframe tbody tr th {\n",
       "        vertical-align: top;\n",
       "    }\n",
       "\n",
       "    .dataframe thead th {\n",
       "        text-align: right;\n",
       "    }\n",
       "</style>\n",
       "<table border=\"1\" class=\"dataframe\">\n",
       "  <thead>\n",
       "    <tr style=\"text-align: right;\">\n",
       "      <th></th>\n",
       "      <th>artist</th>\n",
       "      <th>song</th>\n",
       "      <th>link</th>\n",
       "      <th>text</th>\n",
       "    </tr>\n",
       "  </thead>\n",
       "  <tbody>\n",
       "    <tr>\n",
       "      <th>39563</th>\n",
       "      <td>Quincy Punx</td>\n",
       "      <td>My America</td>\n",
       "      <td>/q/quincy+punx/my+america_20607630.html</td>\n",
       "      <td>\\r\\nRush Limbaugh don't know shit about,  \\r...</td>\n",
       "    </tr>\n",
       "    <tr>\n",
       "      <th>39564</th>\n",
       "      <td>Quincy Punx</td>\n",
       "      <td>Pig Roast</td>\n",
       "      <td>/q/quincy+punx/pig+roast_20607625.html</td>\n",
       "      <td>\\r\\nthere's a party at my place  \\r\\nBring a...</td>\n",
       "    </tr>\n",
       "    <tr>\n",
       "      <th>39565</th>\n",
       "      <td>Quincy Punx</td>\n",
       "      <td>Punker Than You</td>\n",
       "      <td>/q/quincy+punx/punker+than+you_20607624.html</td>\n",
       "      <td>you drink coffee at the right cafes  \\r\\nand b...</td>\n",
       "    </tr>\n",
       "    <tr>\n",
       "      <th>39566</th>\n",
       "      <td>Quincy Punx</td>\n",
       "      <td>Soldiers Of Foreskin</td>\n",
       "      <td>/q/quincy+punx/soldiers+of+foreskin_20607622.html</td>\n",
       "      <td>\\r\\nHassidic psychos with a twist,  \\r\\nA cr...</td>\n",
       "    </tr>\n",
       "    <tr>\n",
       "      <th>39567</th>\n",
       "      <td>Quincy Punx</td>\n",
       "      <td>Stupid People</td>\n",
       "      <td>/q/quincy+punx/stupid+people_20607620.html</td>\n",
       "      <td>Can't tell your ass from a hole in the ground ...</td>\n",
       "    </tr>\n",
       "  </tbody>\n",
       "</table>\n",
       "</div>"
      ],
      "text/plain": [
       "            artist                  song  \\\n",
       "39563  Quincy Punx            My America   \n",
       "39564  Quincy Punx             Pig Roast   \n",
       "39565  Quincy Punx       Punker Than You   \n",
       "39566  Quincy Punx  Soldiers Of Foreskin   \n",
       "39567  Quincy Punx         Stupid People   \n",
       "\n",
       "                                                    link  \\\n",
       "39563            /q/quincy+punx/my+america_20607630.html   \n",
       "39564             /q/quincy+punx/pig+roast_20607625.html   \n",
       "39565       /q/quincy+punx/punker+than+you_20607624.html   \n",
       "39566  /q/quincy+punx/soldiers+of+foreskin_20607622.html   \n",
       "39567         /q/quincy+punx/stupid+people_20607620.html   \n",
       "\n",
       "                                                    text  \n",
       "39563    \\r\\nRush Limbaugh don't know shit about,  \\r...  \n",
       "39564    \\r\\nthere's a party at my place  \\r\\nBring a...  \n",
       "39565  you drink coffee at the right cafes  \\r\\nand b...  \n",
       "39566    \\r\\nHassidic psychos with a twist,  \\r\\nA cr...  \n",
       "39567  Can't tell your ass from a hole in the ground ...  "
      ]
     },
     "execution_count": 49,
     "metadata": {},
     "output_type": "execute_result"
    }
   ],
   "source": [
    "df.tail()"
   ]
  },
  {
   "cell_type": "code",
   "execution_count": 50,
   "id": "b720061f-560c-43c6-8c01-dc84be2ef967",
   "metadata": {},
   "outputs": [
    {
     "data": {
      "text/plain": [
       "(39568, 4)"
      ]
     },
     "execution_count": 50,
     "metadata": {},
     "output_type": "execute_result"
    }
   ],
   "source": [
    "df.shape"
   ]
  },
  {
   "cell_type": "code",
   "execution_count": 51,
   "id": "c5a87c03-7644-40ca-ae19-60a69653c67b",
   "metadata": {},
   "outputs": [
    {
     "data": {
      "text/plain": [
       "artist    369\n",
       "song      369\n",
       "link      369\n",
       "text      369\n",
       "dtype: int64"
      ]
     },
     "execution_count": 51,
     "metadata": {},
     "output_type": "execute_result"
    }
   ],
   "source": [
    "df.isnull().sum()"
   ]
  },
  {
   "cell_type": "code",
   "execution_count": 52,
   "id": "9bd36240-0b8f-4249-8190-b447b8199701",
   "metadata": {},
   "outputs": [],
   "source": [
    "df.dropna(inplace= True) # modifies the current database instead of creating new one"
   ]
  },
  {
   "cell_type": "code",
   "execution_count": 53,
   "id": "65df9a99-44d2-4a75-afd0-f2add92b7cd1",
   "metadata": {},
   "outputs": [
    {
     "data": {
      "text/plain": [
       "artist    0\n",
       "song      0\n",
       "link      0\n",
       "text      0\n",
       "dtype: int64"
      ]
     },
     "execution_count": 53,
     "metadata": {},
     "output_type": "execute_result"
    }
   ],
   "source": [
    "df.isnull().sum()"
   ]
  },
  {
   "cell_type": "code",
   "execution_count": 54,
   "id": "5893cd44-970b-4819-a30b-ce4997d394f9",
   "metadata": {},
   "outputs": [
    {
     "data": {
      "text/plain": [
       "(39199, 4)"
      ]
     },
     "execution_count": 54,
     "metadata": {},
     "output_type": "execute_result"
    }
   ],
   "source": [
    "df.shape"
   ]
  },
  {
   "cell_type": "code",
   "execution_count": 55,
   "id": "ea422b43-6283-419c-ab83-40b100f1baa5",
   "metadata": {},
   "outputs": [],
   "source": [
    "df = df.sample(2400).drop('link', axis = 1).reset_index(drop=True) "
   ]
  },
  {
   "cell_type": "code",
   "execution_count": 56,
   "id": "5304d1c5-ab7e-42f3-abf5-e9f70d91c2cd",
   "metadata": {},
   "outputs": [
    {
     "data": {
      "text/html": [
       "<div>\n",
       "<style scoped>\n",
       "    .dataframe tbody tr th:only-of-type {\n",
       "        vertical-align: middle;\n",
       "    }\n",
       "\n",
       "    .dataframe tbody tr th {\n",
       "        vertical-align: top;\n",
       "    }\n",
       "\n",
       "    .dataframe thead th {\n",
       "        text-align: right;\n",
       "    }\n",
       "</style>\n",
       "<table border=\"1\" class=\"dataframe\">\n",
       "  <thead>\n",
       "    <tr style=\"text-align: right;\">\n",
       "      <th></th>\n",
       "      <th>artist</th>\n",
       "      <th>song</th>\n",
       "      <th>text</th>\n",
       "    </tr>\n",
       "  </thead>\n",
       "  <tbody>\n",
       "    <tr>\n",
       "      <th>0</th>\n",
       "      <td>Bob Dylan</td>\n",
       "      <td>House Of The Rising Sun</td>\n",
       "      <td>There is a house down in New Orleans  \\r\\nThey...</td>\n",
       "    </tr>\n",
       "    <tr>\n",
       "      <th>1</th>\n",
       "      <td>George Harrison</td>\n",
       "      <td>Gone Troppo</td>\n",
       "      <td>There he, sitting in the moonlight  \\r\\nNot fo...</td>\n",
       "    </tr>\n",
       "    <tr>\n",
       "      <th>2</th>\n",
       "      <td>Toto</td>\n",
       "      <td>Love Is A Man's World</td>\n",
       "      <td>Don't you know that the girl left a long time ...</td>\n",
       "    </tr>\n",
       "    <tr>\n",
       "      <th>3</th>\n",
       "      <td>Hillsong</td>\n",
       "      <td>Reaching For You</td>\n",
       "      <td>I can't believe the way Your love has got a ho...</td>\n",
       "    </tr>\n",
       "    <tr>\n",
       "      <th>4</th>\n",
       "      <td>Z-Ro</td>\n",
       "      <td>Hate</td>\n",
       "      <td>[Z-Ro]  \\r\\nHey, why they hate me like I stole...</td>\n",
       "    </tr>\n",
       "  </tbody>\n",
       "</table>\n",
       "</div>"
      ],
      "text/plain": [
       "            artist                     song  \\\n",
       "0        Bob Dylan  House Of The Rising Sun   \n",
       "1  George Harrison              Gone Troppo   \n",
       "2             Toto    Love Is A Man's World   \n",
       "3         Hillsong         Reaching For You   \n",
       "4             Z-Ro                     Hate   \n",
       "\n",
       "                                                text  \n",
       "0  There is a house down in New Orleans  \\r\\nThey...  \n",
       "1  There he, sitting in the moonlight  \\r\\nNot fo...  \n",
       "2  Don't you know that the girl left a long time ...  \n",
       "3  I can't believe the way Your love has got a ho...  \n",
       "4  [Z-Ro]  \\r\\nHey, why they hate me like I stole...  "
      ]
     },
     "execution_count": 56,
     "metadata": {},
     "output_type": "execute_result"
    }
   ],
   "source": [
    "df.head()"
   ]
  },
  {
   "cell_type": "code",
   "execution_count": 57,
   "id": "3df834ef-88d0-41b9-8562-063a66e6e23c",
   "metadata": {},
   "outputs": [
    {
     "data": {
      "text/plain": [
       "\"There is a house down in New Orleans  \\r\\nThey call the rising sun  \\r\\nAnd it's been the ruin of many poor girl  \\r\\nAnd me, oh God, I'm one.  \\r\\n  \\r\\nMy mother was a tailor  \\r\\nShe sowed these new blue jeans  \\r\\nMy sweetheart was a gambler, Lord  \\r\\nDown in New Orleans.  \\r\\n  \\r\\nNow the only thing a gambler needs  \\r\\nIs a suitcase and a trunk  \\r\\nAnd the only time he's satisfied  \\r\\nIs when he's on a drunk.  \\r\\n  \\r\\nHe fills his glasses up to the brim  \\r\\nAnd he'll pass the cards around  \\r\\nAnd the only pleasure he gets out of life  \\r\\nIs rambling from town to town.  \\r\\n  \\r\\nOh tell my baby sister  \\r\\nNot to do what I have done  \\r\\nBut shun that house in New Orleans  \\r\\nThey call the rising sun.  \\r\\n  \\r\\nWell it's one foot on the platform  \\r\\nAnd the other foot on the train  \\r\\nI'm going back to New Orleans  \\r\\nTo wear that ball and chain.  \\r\\n  \\r\\nI'm going back to New Orleans  \\r\\nMy race is almost run  \\r\\nI'm going back to end my life  \\r\\nDown in the rising sun.  \\r\\n  \\r\\nThere is a house in New Orleans  \\r\\nThey call the rising sun  \\r\\nIt's been the ruin of many poor girl  \\r\\nAnd me, oh God, I'm one.\\r\\n\\r\\n\""
      ]
     },
     "execution_count": 57,
     "metadata": {},
     "output_type": "execute_result"
    }
   ],
   "source": [
    "df['text'][0]"
   ]
  },
  {
   "cell_type": "code",
   "execution_count": 58,
   "id": "e1a691cc-1f82-4c8c-a5f4-b3beba39eac8",
   "metadata": {},
   "outputs": [
    {
     "data": {
      "text/plain": [
       "(2400, 3)"
      ]
     },
     "execution_count": 58,
     "metadata": {},
     "output_type": "execute_result"
    }
   ],
   "source": [
    "df.shape"
   ]
  },
  {
   "cell_type": "code",
   "execution_count": 59,
   "id": "e2a447a1-7ea6-4955-9fc5-990ab0e267c0",
   "metadata": {},
   "outputs": [
    {
     "data": {
      "text/html": [
       "<div>\n",
       "<style scoped>\n",
       "    .dataframe tbody tr th:only-of-type {\n",
       "        vertical-align: middle;\n",
       "    }\n",
       "\n",
       "    .dataframe tbody tr th {\n",
       "        vertical-align: top;\n",
       "    }\n",
       "\n",
       "    .dataframe thead th {\n",
       "        text-align: right;\n",
       "    }\n",
       "</style>\n",
       "<table border=\"1\" class=\"dataframe\">\n",
       "  <thead>\n",
       "    <tr style=\"text-align: right;\">\n",
       "      <th></th>\n",
       "      <th>artist</th>\n",
       "      <th>song</th>\n",
       "      <th>text</th>\n",
       "    </tr>\n",
       "  </thead>\n",
       "  <tbody>\n",
       "    <tr>\n",
       "      <th>2395</th>\n",
       "      <td>Kirsty Maccoll</td>\n",
       "      <td>Walk Right Back</td>\n",
       "      <td>I want you to tell me why you walked out on me...</td>\n",
       "    </tr>\n",
       "    <tr>\n",
       "      <th>2396</th>\n",
       "      <td>Green Day</td>\n",
       "      <td>All The Time</td>\n",
       "      <td>All the time, every time I need it.  \\r\\nWhat'...</td>\n",
       "    </tr>\n",
       "    <tr>\n",
       "      <th>2397</th>\n",
       "      <td>Loretta Lynn</td>\n",
       "      <td>I Know How</td>\n",
       "      <td>Yeah I love him like he wants me to and I know...</td>\n",
       "    </tr>\n",
       "    <tr>\n",
       "      <th>2398</th>\n",
       "      <td>Kelly Clarkson</td>\n",
       "      <td>Good Goes The Bye</td>\n",
       "      <td>They say Rome wasn't built in a day  \\r\\nBut y...</td>\n",
       "    </tr>\n",
       "    <tr>\n",
       "      <th>2399</th>\n",
       "      <td>W.A.S.P.</td>\n",
       "      <td>Forever Free</td>\n",
       "      <td>I ride all alone and can't see The road to now...</td>\n",
       "    </tr>\n",
       "  </tbody>\n",
       "</table>\n",
       "</div>"
      ],
      "text/plain": [
       "              artist               song  \\\n",
       "2395  Kirsty Maccoll    Walk Right Back   \n",
       "2396       Green Day       All The Time   \n",
       "2397    Loretta Lynn         I Know How   \n",
       "2398  Kelly Clarkson  Good Goes The Bye   \n",
       "2399        W.A.S.P.       Forever Free   \n",
       "\n",
       "                                                   text  \n",
       "2395  I want you to tell me why you walked out on me...  \n",
       "2396  All the time, every time I need it.  \\r\\nWhat'...  \n",
       "2397  Yeah I love him like he wants me to and I know...  \n",
       "2398  They say Rome wasn't built in a day  \\r\\nBut y...  \n",
       "2399  I ride all alone and can't see The road to now...  "
      ]
     },
     "execution_count": 59,
     "metadata": {},
     "output_type": "execute_result"
    }
   ],
   "source": [
    "df.tail()"
   ]
  },
  {
   "cell_type": "code",
   "execution_count": 60,
   "id": "ac161b73-12f6-4f31-8916-f26ea0e40d20",
   "metadata": {
    "scrolled": true
   },
   "outputs": [
    {
     "name": "stdout",
     "output_type": "stream",
     "text": [
      "Requirement already satisfied: nltk in c:\\users\\naren\\appdata\\roaming\\python\\python312\\site-packages (3.9.1)\n",
      "Requirement already satisfied: click in c:\\python312\\lib\\site-packages (from nltk) (8.1.7)\n",
      "Requirement already satisfied: joblib in c:\\python312\\lib\\site-packages (from nltk) (1.3.2)\n",
      "Requirement already satisfied: regex>=2021.8.3 in c:\\python312\\lib\\site-packages (from nltk) (2024.5.15)\n",
      "Requirement already satisfied: tqdm in c:\\python312\\lib\\site-packages (from nltk) (4.66.1)\n",
      "Requirement already satisfied: colorama in c:\\python312\\lib\\site-packages (from click->nltk) (0.4.6)\n"
     ]
    },
    {
     "name": "stderr",
     "output_type": "stream",
     "text": [
      "WARNING: Ignoring invalid distribution ~cikit-learn (C:\\Python312\\Lib\\site-packages)\n",
      "WARNING: Ignoring invalid distribution ~ip (C:\\Python312\\Lib\\site-packages)\n",
      "WARNING: Ignoring invalid distribution ~orch (C:\\Python312\\Lib\\site-packages)\n",
      "WARNING: Ignoring invalid distribution ~cikit-learn (C:\\Python312\\Lib\\site-packages)\n",
      "WARNING: Ignoring invalid distribution ~ip (C:\\Python312\\Lib\\site-packages)\n",
      "WARNING: Ignoring invalid distribution ~orch (C:\\Python312\\Lib\\site-packages)\n"
     ]
    }
   ],
   "source": [
    "!pip install --user -U nltk"
   ]
  },
  {
   "cell_type": "code",
   "execution_count": 61,
   "id": "f30c029a-81d6-49b9-8dd3-a45ceda349fe",
   "metadata": {},
   "outputs": [
    {
     "name": "stderr",
     "output_type": "stream",
     "text": [
      "[nltk_data] Downloading package punkt_tab to\n",
      "[nltk_data]     C:\\Users\\naren\\AppData\\Roaming\\nltk_data...\n",
      "[nltk_data]   Package punkt_tab is already up-to-date!\n"
     ]
    }
   ],
   "source": [
    "# Natural Language Toolkit\n",
    "import nltk\n",
    "nltk.download('punkt_tab')\n",
    "from nltk.stem.porter import PorterStemmer"
   ]
  },
  {
   "cell_type": "code",
   "execution_count": 62,
   "id": "44ecfc2e-f151-457c-904f-8750947cb21e",
   "metadata": {},
   "outputs": [],
   "source": [
    "stemmer = PorterStemmer()"
   ]
  },
  {
   "cell_type": "code",
   "execution_count": 63,
   "id": "45a6be41-eea1-4802-b0c6-7cb4e83773c7",
   "metadata": {},
   "outputs": [],
   "source": [
    "def token(txt):\n",
    "    token = nltk.word_tokenize(txt)\n",
    "    a =[stemmer.stem(w) for w in token ]\n",
    "    return \" \".join(a)"
   ]
  },
  {
   "cell_type": "code",
   "execution_count": 64,
   "id": "6ca1007d-d9d3-467f-a441-2ed8ed1fbffa",
   "metadata": {},
   "outputs": [
    {
     "data": {
      "text/plain": [
       "'you are beauti , beauti'"
      ]
     },
     "execution_count": 64,
     "metadata": {},
     "output_type": "execute_result"
    }
   ],
   "source": [
    "token(\"you are beautiful, beauty\")"
   ]
  },
  {
   "cell_type": "code",
   "execution_count": 65,
   "id": "57d11569-cd44-4f46-ae97-cf27d6af9730",
   "metadata": {},
   "outputs": [
    {
     "data": {
      "text/plain": [
       "0       there is a hous down in new orlean they call t...\n",
       "1       there he , sit in the moonlight not found , li...\n",
       "2       do n't you know that the girl left a long time...\n",
       "3       i ca n't believ the way your love ha got a hol...\n",
       "4       [ z-ro ] hey , whi they hate me like i stole s...\n",
       "                              ...                        \n",
       "2395    i want you to tell me whi you walk out on me i...\n",
       "2396    all the time , everi time i need it . what 's ...\n",
       "2397    yeah i love him like he want me to and i know ...\n",
       "2398    they say rome wa n't built in a day but you an...\n",
       "2399    i ride all alon and ca n't see the road to now...\n",
       "Name: text, Length: 2400, dtype: object"
      ]
     },
     "execution_count": 65,
     "metadata": {},
     "output_type": "execute_result"
    }
   ],
   "source": [
    "df['text'].apply(lambda x:token(x))"
   ]
  },
  {
   "cell_type": "code",
   "execution_count": 66,
   "id": "2ff6f4ce-b681-48ab-8cd8-9013e98c787b",
   "metadata": {},
   "outputs": [
    {
     "name": "stdout",
     "output_type": "stream",
     "text": [
      "Requirement already satisfied: scikit-learn in c:\\users\\naren\\appdata\\roaming\\python\\python312\\site-packages (1.5.2)\n",
      "Requirement already satisfied: numpy>=1.19.5 in c:\\python312\\lib\\site-packages (from scikit-learn) (1.26.4)\n",
      "Requirement already satisfied: scipy>=1.6.0 in c:\\python312\\lib\\site-packages (from scikit-learn) (1.12.0)\n",
      "Requirement already satisfied: joblib>=1.2.0 in c:\\python312\\lib\\site-packages (from scikit-learn) (1.3.2)\n",
      "Requirement already satisfied: threadpoolctl>=3.1.0 in c:\\python312\\lib\\site-packages (from scikit-learn) (3.4.0)\n"
     ]
    },
    {
     "name": "stderr",
     "output_type": "stream",
     "text": [
      "WARNING: Ignoring invalid distribution ~cikit-learn (C:\\Python312\\Lib\\site-packages)\n",
      "WARNING: Ignoring invalid distribution ~ip (C:\\Python312\\Lib\\site-packages)\n",
      "WARNING: Ignoring invalid distribution ~orch (C:\\Python312\\Lib\\site-packages)\n",
      "WARNING: Ignoring invalid distribution ~cikit-learn (C:\\Python312\\Lib\\site-packages)\n",
      "WARNING: Ignoring invalid distribution ~ip (C:\\Python312\\Lib\\site-packages)\n",
      "WARNING: Ignoring invalid distribution ~orch (C:\\Python312\\Lib\\site-packages)\n"
     ]
    }
   ],
   "source": [
    "!pip install --user scikit-learn"
   ]
  },
  {
   "cell_type": "code",
   "execution_count": 67,
   "id": "14544ad1-387e-4521-b5ab-044b69455559",
   "metadata": {},
   "outputs": [],
   "source": [
    "from sklearn.feature_extraction.text import TfidfVectorizer\n",
    "from sklearn.metrics.pairwise import cosine_similarity"
   ]
  },
  {
   "cell_type": "code",
   "execution_count": 68,
   "id": "34a2ac98-007b-496b-898e-257221af6be0",
   "metadata": {},
   "outputs": [],
   "source": [
    "tfid = TfidfVectorizer(analyzer = 'word', stop_words = 'english')"
   ]
  },
  {
   "cell_type": "code",
   "execution_count": 69,
   "id": "6530c2a2-41f5-4168-a19c-3e1b0e071c8b",
   "metadata": {},
   "outputs": [],
   "source": [
    "matrix = tfid.fit_transform(df['text'])"
   ]
  },
  {
   "cell_type": "code",
   "execution_count": 70,
   "id": "6076e65e-7978-455f-9d45-eb7989c5ef61",
   "metadata": {},
   "outputs": [
    {
     "data": {
      "text/plain": [
       "<2400x16009 sparse matrix of type '<class 'numpy.float64'>'\n",
       "\twith 129043 stored elements in Compressed Sparse Row format>"
      ]
     },
     "execution_count": 70,
     "metadata": {},
     "output_type": "execute_result"
    }
   ],
   "source": [
    "matrix"
   ]
  },
  {
   "cell_type": "code",
   "execution_count": 71,
   "id": "f92c2890-25d8-4280-88df-d15b8c98e911",
   "metadata": {},
   "outputs": [],
   "source": [
    "similar = cosine_similarity(matrix)"
   ]
  },
  {
   "cell_type": "code",
   "execution_count": 72,
   "id": "b64c1762-dde1-4e24-b373-adb0cbefa6a0",
   "metadata": {},
   "outputs": [
    {
     "data": {
      "text/plain": [
       "array([1.        , 0.00822313, 0.00940796, ..., 0.03599405, 0.00201537,\n",
       "       0.00223209])"
      ]
     },
     "execution_count": 72,
     "metadata": {},
     "output_type": "execute_result"
    }
   ],
   "source": [
    "similar[0]"
   ]
  },
  {
   "cell_type": "markdown",
   "id": "b29bdbb9-3ad4-4ae6-b0a9-1902c9876aa8",
   "metadata": {},
   "source": [
    "### Recommender Function"
   ]
  },
  {
   "cell_type": "code",
   "execution_count": 73,
   "id": "29ea39e2-3465-46cd-b72c-155688223395",
   "metadata": {},
   "outputs": [],
   "source": [
    "def recommender(song_name):\n",
    "    idx = df[df['song']==song_name].index[0]\n",
    "    distance = sorted(list(enumerate(similar[idx])), reverse = True, key= lambda x:x[1])\n",
    "    song = []\n",
    "    for s_id in distance[1:5]: # if I change the value here the number of recommendations changes\n",
    "        song.append(df.iloc[s_id[0]].song)\n",
    "    return song"
   ]
  },
  {
   "cell_type": "code",
   "execution_count": 76,
   "id": "56f97d51-803a-491a-a97d-772195caf513",
   "metadata": {},
   "outputs": [
    {
     "data": {
      "text/plain": [
       "['Forever', 'Born Free', 'Always And Forever', 'Listening Wind']"
      ]
     },
     "execution_count": 76,
     "metadata": {},
     "output_type": "execute_result"
    }
   ],
   "source": [
    "recommender(\"Forever Free\")"
   ]
  },
  {
   "cell_type": "code",
   "execution_count": null,
   "id": "c4fec3f2-63e6-4537-81a9-e167f349a9ef",
   "metadata": {},
   "outputs": [],
   "source": [
    "import pickle\n",
    "import os"
   ]
  },
  {
   "cell_type": "code",
   "execution_count": null,
   "id": "06b661d2-b841-460b-9e1d-3d5bb57f8971",
   "metadata": {},
   "outputs": [],
   "source": [
    "pickle.dump(similar, open(\"data/similarity.pkl\",\"wb\"))"
   ]
  },
  {
   "cell_type": "code",
   "execution_count": null,
   "id": "cfbc373e-becf-4764-95fb-281f7cb26a65",
   "metadata": {},
   "outputs": [],
   "source": [
    "pickle.dump(df,open(\"data/df.pkl\", \"wb\"))"
   ]
  }
 ],
 "metadata": {
  "kernelspec": {
   "display_name": "Python 3 (ipykernel)",
   "language": "python",
   "name": "python3"
  },
  "language_info": {
   "codemirror_mode": {
    "name": "ipython",
    "version": 3
   },
   "file_extension": ".py",
   "mimetype": "text/x-python",
   "name": "python",
   "nbconvert_exporter": "python",
   "pygments_lexer": "ipython3",
   "version": "3.12.1"
  }
 },
 "nbformat": 4,
 "nbformat_minor": 5
}
