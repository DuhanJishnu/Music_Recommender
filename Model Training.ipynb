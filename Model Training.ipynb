{
 "cells": [
  {
   "cell_type": "code",
   "execution_count": 1,
   "id": "aff592bc-42e3-4dfb-b606-96367d21f152",
   "metadata": {},
   "outputs": [],
   "source": [
    "import pandas as pd"
   ]
  },
  {
   "cell_type": "code",
   "execution_count": 2,
   "id": "d705d232-0437-4d5c-b4e9-6911423518eb",
   "metadata": {},
   "outputs": [],
   "source": [
    "df = pd.read_csv(\"spotify_millsongdata.csv\")"
   ]
  },
  {
   "cell_type": "code",
   "execution_count": 3,
   "id": "21a58a64-cc62-449d-918b-8eb02420ad1c",
   "metadata": {},
   "outputs": [
    {
     "data": {
      "text/html": [
       "<div>\n",
       "<style scoped>\n",
       "    .dataframe tbody tr th:only-of-type {\n",
       "        vertical-align: middle;\n",
       "    }\n",
       "\n",
       "    .dataframe tbody tr th {\n",
       "        vertical-align: top;\n",
       "    }\n",
       "\n",
       "    .dataframe thead th {\n",
       "        text-align: right;\n",
       "    }\n",
       "</style>\n",
       "<table border=\"1\" class=\"dataframe\">\n",
       "  <thead>\n",
       "    <tr style=\"text-align: right;\">\n",
       "      <th></th>\n",
       "      <th>artist</th>\n",
       "      <th>song</th>\n",
       "      <th>link</th>\n",
       "      <th>text</th>\n",
       "    </tr>\n",
       "  </thead>\n",
       "  <tbody>\n",
       "    <tr>\n",
       "      <th>0</th>\n",
       "      <td>Ace Of Base</td>\n",
       "      <td>Always Have, Always Will</td>\n",
       "      <td>/a/ace+of+base/always+have+always+will_2000356...</td>\n",
       "      <td>Always have, always will  \\r\\nI was mesmerized...</td>\n",
       "    </tr>\n",
       "    <tr>\n",
       "      <th>1</th>\n",
       "      <td>Ace Of Base</td>\n",
       "      <td>Cecilia</td>\n",
       "      <td>/a/ace+of+base/cecilia_20003562.html</td>\n",
       "      <td>This is a song about a well-known girl  \\r\\nWh...</td>\n",
       "    </tr>\n",
       "    <tr>\n",
       "      <th>2</th>\n",
       "      <td>Ace Of Base</td>\n",
       "      <td>Don't Stop</td>\n",
       "      <td>/a/ace+of+base/dont+stop_20186001.html</td>\n",
       "      <td>Don't stop now  \\r\\nDon't stop now  \\r\\nDon't ...</td>\n",
       "    </tr>\n",
       "    <tr>\n",
       "      <th>3</th>\n",
       "      <td>Ace Of Base</td>\n",
       "      <td>Edge Of Heaven</td>\n",
       "      <td>/a/ace+of+base/edge+of+heaven_20003625.html</td>\n",
       "      <td>Fire! I can see it burning so brightly  \\r\\nFi...</td>\n",
       "    </tr>\n",
       "    <tr>\n",
       "      <th>4</th>\n",
       "      <td>Ace Of Base</td>\n",
       "      <td>Fashion Party</td>\n",
       "      <td>/a/ace+of+base/fashion+party_20003603.html</td>\n",
       "      <td>Tonight we're gonna have a good time  \\r\\nOh w...</td>\n",
       "    </tr>\n",
       "  </tbody>\n",
       "</table>\n",
       "</div>"
      ],
      "text/plain": [
       "        artist                      song  \\\n",
       "0  Ace Of Base  Always Have, Always Will   \n",
       "1  Ace Of Base                   Cecilia   \n",
       "2  Ace Of Base                Don't Stop   \n",
       "3  Ace Of Base            Edge Of Heaven   \n",
       "4  Ace Of Base             Fashion Party   \n",
       "\n",
       "                                                link  \\\n",
       "0  /a/ace+of+base/always+have+always+will_2000356...   \n",
       "1               /a/ace+of+base/cecilia_20003562.html   \n",
       "2             /a/ace+of+base/dont+stop_20186001.html   \n",
       "3        /a/ace+of+base/edge+of+heaven_20003625.html   \n",
       "4         /a/ace+of+base/fashion+party_20003603.html   \n",
       "\n",
       "                                                text  \n",
       "0  Always have, always will  \\r\\nI was mesmerized...  \n",
       "1  This is a song about a well-known girl  \\r\\nWh...  \n",
       "2  Don't stop now  \\r\\nDon't stop now  \\r\\nDon't ...  \n",
       "3  Fire! I can see it burning so brightly  \\r\\nFi...  \n",
       "4  Tonight we're gonna have a good time  \\r\\nOh w...  "
      ]
     },
     "execution_count": 3,
     "metadata": {},
     "output_type": "execute_result"
    }
   ],
   "source": [
    "df.head() "
   ]
  },
  {
   "cell_type": "code",
   "execution_count": 4,
   "id": "93fbfc50-e220-421e-8982-898ad8100264",
   "metadata": {},
   "outputs": [
    {
     "data": {
      "text/html": [
       "<div>\n",
       "<style scoped>\n",
       "    .dataframe tbody tr th:only-of-type {\n",
       "        vertical-align: middle;\n",
       "    }\n",
       "\n",
       "    .dataframe tbody tr th {\n",
       "        vertical-align: top;\n",
       "    }\n",
       "\n",
       "    .dataframe thead th {\n",
       "        text-align: right;\n",
       "    }\n",
       "</style>\n",
       "<table border=\"1\" class=\"dataframe\">\n",
       "  <thead>\n",
       "    <tr style=\"text-align: right;\">\n",
       "      <th></th>\n",
       "      <th>artist</th>\n",
       "      <th>song</th>\n",
       "      <th>link</th>\n",
       "      <th>text</th>\n",
       "    </tr>\n",
       "  </thead>\n",
       "  <tbody>\n",
       "    <tr>\n",
       "      <th>39563</th>\n",
       "      <td>Quincy Punx</td>\n",
       "      <td>My America</td>\n",
       "      <td>/q/quincy+punx/my+america_20607630.html</td>\n",
       "      <td>\\r\\nRush Limbaugh don't know shit about,  \\r...</td>\n",
       "    </tr>\n",
       "    <tr>\n",
       "      <th>39564</th>\n",
       "      <td>Quincy Punx</td>\n",
       "      <td>Pig Roast</td>\n",
       "      <td>/q/quincy+punx/pig+roast_20607625.html</td>\n",
       "      <td>\\r\\nthere's a party at my place  \\r\\nBring a...</td>\n",
       "    </tr>\n",
       "    <tr>\n",
       "      <th>39565</th>\n",
       "      <td>Quincy Punx</td>\n",
       "      <td>Punker Than You</td>\n",
       "      <td>/q/quincy+punx/punker+than+you_20607624.html</td>\n",
       "      <td>you drink coffee at the right cafes  \\r\\nand b...</td>\n",
       "    </tr>\n",
       "    <tr>\n",
       "      <th>39566</th>\n",
       "      <td>Quincy Punx</td>\n",
       "      <td>Soldiers Of Foreskin</td>\n",
       "      <td>/q/quincy+punx/soldiers+of+foreskin_20607622.html</td>\n",
       "      <td>\\r\\nHassidic psychos with a twist,  \\r\\nA cr...</td>\n",
       "    </tr>\n",
       "    <tr>\n",
       "      <th>39567</th>\n",
       "      <td>Quincy Punx</td>\n",
       "      <td>Stupid People</td>\n",
       "      <td>/q/quincy+punx/stupid+people_20607620.html</td>\n",
       "      <td>Can't tell your ass from a hole in the ground ...</td>\n",
       "    </tr>\n",
       "  </tbody>\n",
       "</table>\n",
       "</div>"
      ],
      "text/plain": [
       "            artist                  song  \\\n",
       "39563  Quincy Punx            My America   \n",
       "39564  Quincy Punx             Pig Roast   \n",
       "39565  Quincy Punx       Punker Than You   \n",
       "39566  Quincy Punx  Soldiers Of Foreskin   \n",
       "39567  Quincy Punx         Stupid People   \n",
       "\n",
       "                                                    link  \\\n",
       "39563            /q/quincy+punx/my+america_20607630.html   \n",
       "39564             /q/quincy+punx/pig+roast_20607625.html   \n",
       "39565       /q/quincy+punx/punker+than+you_20607624.html   \n",
       "39566  /q/quincy+punx/soldiers+of+foreskin_20607622.html   \n",
       "39567         /q/quincy+punx/stupid+people_20607620.html   \n",
       "\n",
       "                                                    text  \n",
       "39563    \\r\\nRush Limbaugh don't know shit about,  \\r...  \n",
       "39564    \\r\\nthere's a party at my place  \\r\\nBring a...  \n",
       "39565  you drink coffee at the right cafes  \\r\\nand b...  \n",
       "39566    \\r\\nHassidic psychos with a twist,  \\r\\nA cr...  \n",
       "39567  Can't tell your ass from a hole in the ground ...  "
      ]
     },
     "execution_count": 4,
     "metadata": {},
     "output_type": "execute_result"
    }
   ],
   "source": [
    "df.tail()"
   ]
  },
  {
   "cell_type": "code",
   "execution_count": 5,
   "id": "b720061f-560c-43c6-8c01-dc84be2ef967",
   "metadata": {},
   "outputs": [
    {
     "data": {
      "text/plain": [
       "(39568, 4)"
      ]
     },
     "execution_count": 5,
     "metadata": {},
     "output_type": "execute_result"
    }
   ],
   "source": [
    "df.shape"
   ]
  },
  {
   "cell_type": "code",
   "execution_count": 6,
   "id": "c5a87c03-7644-40ca-ae19-60a69653c67b",
   "metadata": {},
   "outputs": [
    {
     "data": {
      "text/plain": [
       "artist    369\n",
       "song      369\n",
       "link      369\n",
       "text      369\n",
       "dtype: int64"
      ]
     },
     "execution_count": 6,
     "metadata": {},
     "output_type": "execute_result"
    }
   ],
   "source": [
    "df.isnull().sum()"
   ]
  },
  {
   "cell_type": "code",
   "execution_count": 7,
   "id": "9bd36240-0b8f-4249-8190-b447b8199701",
   "metadata": {},
   "outputs": [],
   "source": [
    "df.dropna(inplace= True) # modifies the current database instead of creating new one"
   ]
  },
  {
   "cell_type": "code",
   "execution_count": 8,
   "id": "65df9a99-44d2-4a75-afd0-f2add92b7cd1",
   "metadata": {},
   "outputs": [
    {
     "data": {
      "text/plain": [
       "artist    0\n",
       "song      0\n",
       "link      0\n",
       "text      0\n",
       "dtype: int64"
      ]
     },
     "execution_count": 8,
     "metadata": {},
     "output_type": "execute_result"
    }
   ],
   "source": [
    "df.isnull().sum()"
   ]
  },
  {
   "cell_type": "code",
   "execution_count": 9,
   "id": "5893cd44-970b-4819-a30b-ce4997d394f9",
   "metadata": {},
   "outputs": [
    {
     "data": {
      "text/plain": [
       "(39199, 4)"
      ]
     },
     "execution_count": 9,
     "metadata": {},
     "output_type": "execute_result"
    }
   ],
   "source": [
    "df.shape"
   ]
  },
  {
   "cell_type": "code",
   "execution_count": 10,
   "id": "ea422b43-6283-419c-ab83-40b100f1baa5",
   "metadata": {},
   "outputs": [],
   "source": [
    "df = df.sample(2400).drop('link', axis = 1).reset_index(drop=True) "
   ]
  },
  {
   "cell_type": "code",
   "execution_count": 11,
   "id": "5304d1c5-ab7e-42f3-abf5-e9f70d91c2cd",
   "metadata": {},
   "outputs": [
    {
     "data": {
      "text/html": [
       "<div>\n",
       "<style scoped>\n",
       "    .dataframe tbody tr th:only-of-type {\n",
       "        vertical-align: middle;\n",
       "    }\n",
       "\n",
       "    .dataframe tbody tr th {\n",
       "        vertical-align: top;\n",
       "    }\n",
       "\n",
       "    .dataframe thead th {\n",
       "        text-align: right;\n",
       "    }\n",
       "</style>\n",
       "<table border=\"1\" class=\"dataframe\">\n",
       "  <thead>\n",
       "    <tr style=\"text-align: right;\">\n",
       "      <th></th>\n",
       "      <th>artist</th>\n",
       "      <th>song</th>\n",
       "      <th>text</th>\n",
       "    </tr>\n",
       "  </thead>\n",
       "  <tbody>\n",
       "    <tr>\n",
       "      <th>0</th>\n",
       "      <td>Alabama</td>\n",
       "      <td>Pass It On Down</td>\n",
       "      <td>We live in the land of plenty  \\r\\nBut many th...</td>\n",
       "    </tr>\n",
       "    <tr>\n",
       "      <th>1</th>\n",
       "      <td>Alice Cooper</td>\n",
       "      <td>Muscle Of Love</td>\n",
       "      <td>Aw, who's the queen of the locker room  \\r\\nWh...</td>\n",
       "    </tr>\n",
       "    <tr>\n",
       "      <th>2</th>\n",
       "      <td>Judy Garland</td>\n",
       "      <td>But Not For Me</td>\n",
       "      <td>Old man sunshine, listen you  \\r\\nNever tell m...</td>\n",
       "    </tr>\n",
       "    <tr>\n",
       "      <th>3</th>\n",
       "      <td>The Monkees</td>\n",
       "      <td>So Goes Love</td>\n",
       "      <td>Girl, this is goodbye for us  \\r\\nI'm afraid t...</td>\n",
       "    </tr>\n",
       "    <tr>\n",
       "      <th>4</th>\n",
       "      <td>Ice Cube</td>\n",
       "      <td>Down For Whatever</td>\n",
       "      <td>Damn.  \\r\\nI'm broke.  \\r\\nMy feet hurt.  \\r\\n...</td>\n",
       "    </tr>\n",
       "  </tbody>\n",
       "</table>\n",
       "</div>"
      ],
      "text/plain": [
       "         artist               song  \\\n",
       "0       Alabama    Pass It On Down   \n",
       "1  Alice Cooper     Muscle Of Love   \n",
       "2  Judy Garland     But Not For Me   \n",
       "3   The Monkees       So Goes Love   \n",
       "4      Ice Cube  Down For Whatever   \n",
       "\n",
       "                                                text  \n",
       "0  We live in the land of plenty  \\r\\nBut many th...  \n",
       "1  Aw, who's the queen of the locker room  \\r\\nWh...  \n",
       "2  Old man sunshine, listen you  \\r\\nNever tell m...  \n",
       "3  Girl, this is goodbye for us  \\r\\nI'm afraid t...  \n",
       "4  Damn.  \\r\\nI'm broke.  \\r\\nMy feet hurt.  \\r\\n...  "
      ]
     },
     "execution_count": 11,
     "metadata": {},
     "output_type": "execute_result"
    }
   ],
   "source": [
    "df.head()"
   ]
  },
  {
   "cell_type": "code",
   "execution_count": 15,
   "id": "3df834ef-88d0-41b9-8562-063a66e6e23c",
   "metadata": {},
   "outputs": [
    {
     "data": {
      "text/plain": [
       "\"We live in the land of plenty  \\r\\nBut many things aren't plenty anymore  \\r\\nLike the water from our sink  \\r\\nThey say's not safe to drink  \\r\\n  \\r\\nYou gotta go and buy it at the store  \\r\\nNow we're told there's a hole in the ozone  \\r\\nLook what's washing on the beach  \\r\\nAnd Lord, I believe, from the heavens to the seas  \\r\\nWe're bringing Mother Nature to her knees  \\r\\n  \\r\\n[Chorus]  \\r\\nSo let's leave some blue up above us  \\r\\nLet's leave some green on the ground  \\r\\nIt's only ours to borrow, let's save some for tomorrow  \\r\\nLeave it and pass it on down  \\r\\n  \\r\\nWell there's a change taking place way on the mountains  \\r\\nAcid rain is falling on the leaves  \\r\\nAnd down in Brazil, the fires are burning still  \\r\\nHow we gonna breathe without them trees  \\r\\n  \\r\\n[Chorus]  \\r\\n  \\r\\nThere's a place where I live called the Canyon  \\r\\nWhere Daddy taught me to swim  \\r\\nAnd that water, it's so pure  \\r\\nAnd I'm gonna make sure  \\r\\nDaddy's grandkids can swim there like him  \\r\\n  \\r\\nNow we all oughta feel just a little bit guilty  \\r\\nWhen we look into the eyes of our kids  \\r\\n'Cause brothers it's a fact, if we take and don't put back  \\r\\nThey'll have to pay for all we did  \\r\\n  \\r\\n[Chorus: x 4]  \\r\\n  \\r\\nTag:  \\r\\nLeave it and pass it on down\\r\\n\\r\\n\""
      ]
     },
     "execution_count": 15,
     "metadata": {},
     "output_type": "execute_result"
    }
   ],
   "source": [
    "df['text'][0]"
   ]
  },
  {
   "cell_type": "code",
   "execution_count": 16,
   "id": "e1a691cc-1f82-4c8c-a5f4-b3beba39eac8",
   "metadata": {},
   "outputs": [
    {
     "data": {
      "text/plain": [
       "(2400, 3)"
      ]
     },
     "execution_count": 16,
     "metadata": {},
     "output_type": "execute_result"
    }
   ],
   "source": [
    "df.shape"
   ]
  },
  {
   "cell_type": "code",
   "execution_count": 17,
   "id": "e2a447a1-7ea6-4955-9fc5-990ab0e267c0",
   "metadata": {},
   "outputs": [
    {
     "data": {
      "text/html": [
       "<div>\n",
       "<style scoped>\n",
       "    .dataframe tbody tr th:only-of-type {\n",
       "        vertical-align: middle;\n",
       "    }\n",
       "\n",
       "    .dataframe tbody tr th {\n",
       "        vertical-align: top;\n",
       "    }\n",
       "\n",
       "    .dataframe thead th {\n",
       "        text-align: right;\n",
       "    }\n",
       "</style>\n",
       "<table border=\"1\" class=\"dataframe\">\n",
       "  <thead>\n",
       "    <tr style=\"text-align: right;\">\n",
       "      <th></th>\n",
       "      <th>artist</th>\n",
       "      <th>song</th>\n",
       "      <th>text</th>\n",
       "    </tr>\n",
       "  </thead>\n",
       "  <tbody>\n",
       "    <tr>\n",
       "      <th>2395</th>\n",
       "      <td>Bee Gees</td>\n",
       "      <td>And The Sun Will Shine</td>\n",
       "      <td>And the rain will fall, it falls for you.  \\r\\...</td>\n",
       "    </tr>\n",
       "    <tr>\n",
       "      <th>2396</th>\n",
       "      <td>Ice Cube</td>\n",
       "      <td>Who Got The Camera?</td>\n",
       "      <td>Drivin' down the motherfuckin' highway  \\r\\nTh...</td>\n",
       "    </tr>\n",
       "    <tr>\n",
       "      <th>2397</th>\n",
       "      <td>Rihanna</td>\n",
       "      <td>Vogue</td>\n",
       "      <td>What at you looking at?  \\r\\n  \\r\\nStrike a po...</td>\n",
       "    </tr>\n",
       "    <tr>\n",
       "      <th>2398</th>\n",
       "      <td>Kyla</td>\n",
       "      <td>Buti Na Lang</td>\n",
       "      <td>Buti Na Lang  \\r\\nNoong di ka pa nakikita  \\r\\...</td>\n",
       "    </tr>\n",
       "    <tr>\n",
       "      <th>2399</th>\n",
       "      <td>Dave Matthews Band</td>\n",
       "      <td>Hello Again</td>\n",
       "      <td>She was my one and only  \\r\\nShe was my girl, ...</td>\n",
       "    </tr>\n",
       "  </tbody>\n",
       "</table>\n",
       "</div>"
      ],
      "text/plain": [
       "                  artist                    song  \\\n",
       "2395            Bee Gees  And The Sun Will Shine   \n",
       "2396            Ice Cube     Who Got The Camera?   \n",
       "2397             Rihanna                   Vogue   \n",
       "2398                Kyla            Buti Na Lang   \n",
       "2399  Dave Matthews Band             Hello Again   \n",
       "\n",
       "                                                   text  \n",
       "2395  And the rain will fall, it falls for you.  \\r\\...  \n",
       "2396  Drivin' down the motherfuckin' highway  \\r\\nTh...  \n",
       "2397  What at you looking at?  \\r\\n  \\r\\nStrike a po...  \n",
       "2398  Buti Na Lang  \\r\\nNoong di ka pa nakikita  \\r\\...  \n",
       "2399  She was my one and only  \\r\\nShe was my girl, ...  "
      ]
     },
     "execution_count": 17,
     "metadata": {},
     "output_type": "execute_result"
    }
   ],
   "source": [
    "df.tail()"
   ]
  },
  {
   "cell_type": "code",
   "execution_count": 18,
   "id": "ac161b73-12f6-4f31-8916-f26ea0e40d20",
   "metadata": {
    "scrolled": true
   },
   "outputs": [
    {
     "name": "stdout",
     "output_type": "stream",
     "text": [
      "Requirement already satisfied: nltk in c:\\users\\naren\\appdata\\roaming\\python\\python312\\site-packages (3.9.1)\n",
      "Requirement already satisfied: click in c:\\python312\\lib\\site-packages (from nltk) (8.1.7)\n",
      "Requirement already satisfied: joblib in c:\\python312\\lib\\site-packages (from nltk) (1.3.2)\n",
      "Requirement already satisfied: regex>=2021.8.3 in c:\\python312\\lib\\site-packages (from nltk) (2024.5.15)\n",
      "Requirement already satisfied: tqdm in c:\\python312\\lib\\site-packages (from nltk) (4.66.1)\n",
      "Requirement already satisfied: colorama in c:\\python312\\lib\\site-packages (from click->nltk) (0.4.6)\n"
     ]
    },
    {
     "name": "stderr",
     "output_type": "stream",
     "text": [
      "WARNING: Ignoring invalid distribution ~cikit-learn (C:\\Python312\\Lib\\site-packages)\n",
      "WARNING: Ignoring invalid distribution ~ip (C:\\Python312\\Lib\\site-packages)\n",
      "WARNING: Ignoring invalid distribution ~orch (C:\\Python312\\Lib\\site-packages)\n",
      "WARNING: Ignoring invalid distribution ~cikit-learn (C:\\Python312\\Lib\\site-packages)\n",
      "WARNING: Ignoring invalid distribution ~ip (C:\\Python312\\Lib\\site-packages)\n",
      "WARNING: Ignoring invalid distribution ~orch (C:\\Python312\\Lib\\site-packages)\n"
     ]
    }
   ],
   "source": [
    "!pip install --user -U nltk"
   ]
  },
  {
   "cell_type": "code",
   "execution_count": 19,
   "id": "f30c029a-81d6-49b9-8dd3-a45ceda349fe",
   "metadata": {},
   "outputs": [
    {
     "name": "stderr",
     "output_type": "stream",
     "text": [
      "[nltk_data] Downloading package punkt_tab to\n",
      "[nltk_data]     C:\\Users\\naren\\AppData\\Roaming\\nltk_data...\n",
      "[nltk_data]   Package punkt_tab is already up-to-date!\n"
     ]
    }
   ],
   "source": [
    "# Natural Language Toolkit\n",
    "import nltk\n",
    "nltk.download('punkt_tab')\n",
    "from nltk.stem.porter import PorterStemmer"
   ]
  },
  {
   "cell_type": "code",
   "execution_count": 20,
   "id": "44ecfc2e-f151-457c-904f-8750947cb21e",
   "metadata": {},
   "outputs": [],
   "source": [
    "stemmer = PorterStemmer()"
   ]
  },
  {
   "cell_type": "code",
   "execution_count": 21,
   "id": "45a6be41-eea1-4802-b0c6-7cb4e83773c7",
   "metadata": {},
   "outputs": [],
   "source": [
    "def token(txt):\n",
    "    token = nltk.word_tokenize(txt)\n",
    "    a =[stemmer.stem(w) for w in token ]\n",
    "    return \" \".join(a)"
   ]
  },
  {
   "cell_type": "code",
   "execution_count": 22,
   "id": "6ca1007d-d9d3-467f-a441-2ed8ed1fbffa",
   "metadata": {},
   "outputs": [
    {
     "data": {
      "text/plain": [
       "'you are beauti , beauti'"
      ]
     },
     "execution_count": 22,
     "metadata": {},
     "output_type": "execute_result"
    }
   ],
   "source": [
    "token(\"you are beautiful, beauty\")"
   ]
  },
  {
   "cell_type": "code",
   "execution_count": 23,
   "id": "57d11569-cd44-4f46-ae97-cf27d6af9730",
   "metadata": {},
   "outputs": [
    {
     "data": {
      "text/plain": [
       "0       we live in the land of plenti but mani thing a...\n",
       "1       aw , who 's the queen of the locker room who '...\n",
       "2       old man sunshin , listen you never tell me dre...\n",
       "3       girl , thi is goodby for us i 'm afraid there ...\n",
       "4       damn . i 'm broke . my feet hurt . ( insid the...\n",
       "                              ...                        \n",
       "2395    and the rain will fall , it fall for you . and...\n",
       "2396    drivin ' down the motherfuckin ' highway the f...\n",
       "2397    what at you look at ? strike a pose strike a p...\n",
       "2398    buti na lang noong di ka pa nakikita akala ko'...\n",
       "2399    she wa my one and onli she wa my girl , she lo...\n",
       "Name: text, Length: 2400, dtype: object"
      ]
     },
     "execution_count": 23,
     "metadata": {},
     "output_type": "execute_result"
    }
   ],
   "source": [
    "df['text'].apply(lambda x:token(x))"
   ]
  },
  {
   "cell_type": "code",
   "execution_count": 24,
   "id": "2ff6f4ce-b681-48ab-8cd8-9013e98c787b",
   "metadata": {},
   "outputs": [
    {
     "name": "stdout",
     "output_type": "stream",
     "text": [
      "Requirement already satisfied: scikit-learn in c:\\users\\naren\\appdata\\roaming\\python\\python312\\site-packages (1.5.2)\n",
      "Requirement already satisfied: numpy>=1.19.5 in c:\\python312\\lib\\site-packages (from scikit-learn) (1.26.4)\n",
      "Requirement already satisfied: scipy>=1.6.0 in c:\\python312\\lib\\site-packages (from scikit-learn) (1.12.0)\n",
      "Requirement already satisfied: joblib>=1.2.0 in c:\\python312\\lib\\site-packages (from scikit-learn) (1.3.2)\n",
      "Requirement already satisfied: threadpoolctl>=3.1.0 in c:\\python312\\lib\\site-packages (from scikit-learn) (3.4.0)\n"
     ]
    },
    {
     "name": "stderr",
     "output_type": "stream",
     "text": [
      "WARNING: Ignoring invalid distribution ~cikit-learn (C:\\Python312\\Lib\\site-packages)\n",
      "WARNING: Ignoring invalid distribution ~ip (C:\\Python312\\Lib\\site-packages)\n",
      "WARNING: Ignoring invalid distribution ~orch (C:\\Python312\\Lib\\site-packages)\n",
      "WARNING: Ignoring invalid distribution ~cikit-learn (C:\\Python312\\Lib\\site-packages)\n",
      "WARNING: Ignoring invalid distribution ~ip (C:\\Python312\\Lib\\site-packages)\n",
      "WARNING: Ignoring invalid distribution ~orch (C:\\Python312\\Lib\\site-packages)\n"
     ]
    }
   ],
   "source": [
    "!pip install --user scikit-learn"
   ]
  },
  {
   "cell_type": "code",
   "execution_count": 25,
   "id": "14544ad1-387e-4521-b5ab-044b69455559",
   "metadata": {},
   "outputs": [],
   "source": [
    "from sklearn.feature_extraction.text import TfidfVectorizer\n",
    "from sklearn.metrics.pairwise import cosine_similarity"
   ]
  },
  {
   "cell_type": "code",
   "execution_count": 26,
   "id": "34a2ac98-007b-496b-898e-257221af6be0",
   "metadata": {},
   "outputs": [],
   "source": [
    "tfid = TfidfVectorizer(analyzer = 'word', stop_words = 'english')"
   ]
  },
  {
   "cell_type": "code",
   "execution_count": 27,
   "id": "6530c2a2-41f5-4168-a19c-3e1b0e071c8b",
   "metadata": {},
   "outputs": [],
   "source": [
    "matrix = tfid.fit_transform(df['text'])"
   ]
  },
  {
   "cell_type": "code",
   "execution_count": 28,
   "id": "6076e65e-7978-455f-9d45-eb7989c5ef61",
   "metadata": {},
   "outputs": [
    {
     "data": {
      "text/plain": [
       "<2400x15660 sparse matrix of type '<class 'numpy.float64'>'\n",
       "\twith 126752 stored elements in Compressed Sparse Row format>"
      ]
     },
     "execution_count": 28,
     "metadata": {},
     "output_type": "execute_result"
    }
   ],
   "source": [
    "matrix"
   ]
  },
  {
   "cell_type": "code",
   "execution_count": 29,
   "id": "f92c2890-25d8-4280-88df-d15b8c98e911",
   "metadata": {},
   "outputs": [],
   "source": [
    "similar = cosine_similarity(matrix)"
   ]
  },
  {
   "cell_type": "code",
   "execution_count": 30,
   "id": "b64c1762-dde1-4e24-b373-adb0cbefa6a0",
   "metadata": {},
   "outputs": [
    {
     "data": {
      "text/plain": [
       "array([1.        , 0.00959699, 0.00934173, ..., 0.03228623, 0.01745162,\n",
       "       0.05495496])"
      ]
     },
     "execution_count": 30,
     "metadata": {},
     "output_type": "execute_result"
    }
   ],
   "source": [
    "similar[0]"
   ]
  },
  {
   "cell_type": "markdown",
   "id": "b29bdbb9-3ad4-4ae6-b0a9-1902c9876aa8",
   "metadata": {},
   "source": [
    "### Recommender Function"
   ]
  },
  {
   "cell_type": "code",
   "execution_count": 31,
   "id": "29ea39e2-3465-46cd-b72c-155688223395",
   "metadata": {},
   "outputs": [],
   "source": [
    "def recommender(song_name):\n",
    "    idx = df[df['song']==song_name].index[0]\n",
    "    distance = sorted(list(enumerate(similar[idx])), reverse = True, key= lambda x:x[1])\n",
    "    song = []\n",
    "    for s_id in distance[1:5]: # if I change the value here the number of recommendations changes\n",
    "        song.append(df.iloc[s_id[0]].song)\n",
    "    return song"
   ]
  },
  {
   "cell_type": "code",
   "execution_count": 34,
   "id": "56f97d51-803a-491a-a97d-772195caf513",
   "metadata": {},
   "outputs": [
    {
     "data": {
      "text/plain": [
       "[\"Don't Stop The Music\",\n",
       " 'Twisted Transistor',\n",
       " 'Listen To The Music',\n",
       " 'New Orleans']"
      ]
     },
     "execution_count": 34,
     "metadata": {},
     "output_type": "execute_result"
    }
   ],
   "source": [
    "recommender(\"Vogue\")"
   ]
  },
  {
   "cell_type": "code",
   "execution_count": 35,
   "id": "c4fec3f2-63e6-4537-81a9-e167f349a9ef",
   "metadata": {},
   "outputs": [],
   "source": [
    "import pickle"
   ]
  },
  {
   "cell_type": "code",
   "execution_count": 36,
   "id": "06b661d2-b841-460b-9e1d-3d5bb57f8971",
   "metadata": {},
   "outputs": [],
   "source": [
    "pickle.dump(similar, open(\"similarity.pkl\", \"wb\"))"
   ]
  },
  {
   "cell_type": "code",
   "execution_count": 37,
   "id": "cfbc373e-becf-4764-95fb-281f7cb26a65",
   "metadata": {},
   "outputs": [],
   "source": [
    "pickle.dump(df,open(\"df.pkl\", \"wb\"))"
   ]
  }
 ],
 "metadata": {
  "kernelspec": {
   "display_name": "Python 3 (ipykernel)",
   "language": "python",
   "name": "python3"
  },
  "language_info": {
   "codemirror_mode": {
    "name": "ipython",
    "version": 3
   },
   "file_extension": ".py",
   "mimetype": "text/x-python",
   "name": "python",
   "nbconvert_exporter": "python",
   "pygments_lexer": "ipython3",
   "version": "3.12.1"
  }
 },
 "nbformat": 4,
 "nbformat_minor": 5
}
